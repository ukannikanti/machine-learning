{
 "cells": [
  {
   "cell_type": "markdown",
   "metadata": {},
   "source": [
    "#### Clustering Algorithms\n",
    "\n",
    "Types:\n",
    "```\n",
    "1. K means (Centriod Models)\n",
    "2. Guassian Mixture Models (Distribution Models)\n",
    "3. Density Models (DBSCAN)\n",
    "4. Hierarichal Models (Connectivity Models)\n",
    "5. Spectral Clustering (Special Models)\n",
    "```\n"
   ]
  },
  {
   "cell_type": "code",
   "execution_count": 51,
   "metadata": {},
   "outputs": [],
   "source": [
    "from sklearn.datasets import load_digits\n",
    "from sklearn.cluster import KMeans\n",
    "from sklearn.preprocessing import scale\n",
    "import numpy as np\n",
    "from sklearn.cluster import KMeans\n",
    "import matplotlib.pyplot as plt"
   ]
  },
  {
   "cell_type": "code",
   "execution_count": 33,
   "metadata": {},
   "outputs": [
    {
     "name": "stdout",
     "output_type": "stream",
     "text": [
      "[0 1 2 3 4 5 6 7 8 9]\n"
     ]
    }
   ],
   "source": [
    "## Load digits dataset\n",
    "X_digits, y_digits = load_digits(return_X_y=True)\n",
    "data = scale(X_digits)\n",
    "\n",
    "n_samples, n_features = data.shape\n",
    "n_digits = len(np.unique(y_digits))\n",
    "labels = y_digits\n",
    "print(np.unique(y_digits))"
   ]
  },
  {
   "cell_type": "code",
   "execution_count": 41,
   "metadata": {},
   "outputs": [
    {
     "name": "stdout",
     "output_type": "stream",
     "text": [
      "n_digits: 10, \t n_samples 1797, \t n_features 64\n"
     ]
    }
   ],
   "source": [
    "print(\"n_digits: %d, \\t n_samples %d, \\t n_features %d\" % (n_digits, n_samples, n_features))"
   ]
  },
  {
   "cell_type": "markdown",
   "metadata": {},
   "source": [
    "#### Parameters\n",
    "**n_clusters: Only this parameter is required** \n",
    "    1. The number of clusters to form as well as the number of centroids to generate.\n",
    "    \n",
    "**init** \n",
    "    1.  k-means++ : selects initial cluster centers for k-mean clustering in a smart way to speed up convergence. See section Notes in k_init for more details.\n",
    "    2. random: choose k observations (rows) at random from data for the initial centroids.\n",
    "\n",
    "**n_init, default=10** \n",
    "    1. Number of time the k-means algorithm will be run with different centroid seeds. The final results will be the best output of n_init consecutive runs in terms of inertia.\n",
    "\n"
   ]
  },
  {
   "cell_type": "code",
   "execution_count": 57,
   "metadata": {},
   "outputs": [],
   "source": [
    "# init -> selects initial cluster centers for k-mean clustering ('k-means++', 'random')\n",
    "kmeans = KMeans(n_clusters=n_digits, init=\"k-means++\", n_init=10)\n",
    "y_pred = kmeans.fit_predict(X_digits)"
   ]
  },
  {
   "cell_type": "code",
   "execution_count": 61,
   "metadata": {},
   "outputs": [
    {
     "data": {
      "text/plain": [
       "(10, 64)"
      ]
     },
     "execution_count": 61,
     "metadata": {},
     "output_type": "execute_result"
    }
   ],
   "source": [
    "kmeans.cluster_centers_.shape"
   ]
  },
  {
   "cell_type": "code",
   "execution_count": 63,
   "metadata": {
    "scrolled": true
   },
   "outputs": [
    {
     "data": {
      "image/png": "[encoded data removed]",
      "text/plain": [
       "<Figure size 576x216 with 10 Axes>"
      ]
     },
     "metadata": {},
     "output_type": "display_data"
    }
   ],
   "source": [
    "fig, ax = plt.subplots(2, 5, figsize=(8, 3))\n",
    "centers = kmeans.cluster_centers_.reshape(10, 8, 8)\n",
    "for axi, center in zip(ax.flat, centers):\n",
    "    axi.set(xticks=[], yticks=[])\n",
    "    axi.imshow(center, interpolation='nearest', cmap=plt.cm.binary)"
   ]
  },
  {
   "cell_type": "code",
   "execution_count": 90,
   "metadata": {},
   "outputs": [
    {
     "data": {
      "text/html": [
       "<div>\n",
       "<style scoped>\n",
       "    .dataframe tbody tr th:only-of-type {\n",
       "        vertical-align: middle;\n",
       "    }\n",
       "\n",
       "    .dataframe tbody tr th {\n",
       "        vertical-align: top;\n",
       "    }\n",
       "\n",
       "    .dataframe thead th {\n",
       "        text-align: right;\n",
       "    }\n",
       "</style>\n",
       "<table border=\"1\" class=\"dataframe\">\n",
       "  <thead>\n",
       "    <tr style=\"text-align: right;\">\n",
       "      <th></th>\n",
       "      <th>owner_name</th>\n",
       "      <th>create_time</th>\n",
       "      <th>table_schema</th>\n",
       "      <th>table_name</th>\n",
       "      <th>row_count</th>\n",
       "      <th>byte_count</th>\n",
       "      <th>email</th>\n",
       "    </tr>\n",
       "  </thead>\n",
       "  <tbody>\n",
       "    <tr>\n",
       "      <th>0</th>\n",
       "      <td>anup.patel</td>\n",
       "      <td>2019-07-15 11:29:51</td>\n",
       "      <td>rm</td>\n",
       "      <td>ap_comm_perf_daily_data</td>\n",
       "      <td>6369978</td>\n",
       "      <td>141413728</td>\n",
       "      <td>anup.patel@choicehotels.com</td>\n",
       "    </tr>\n",
       "    <tr>\n",
       "      <th>1</th>\n",
       "      <td>anup.patel</td>\n",
       "      <td>2019-08-14 08:22:16</td>\n",
       "      <td>rm</td>\n",
       "      <td>ap_channel_data</td>\n",
       "      <td>6087118</td>\n",
       "      <td>81609660</td>\n",
       "      <td>anup.patel@choicehotels.com</td>\n",
       "    </tr>\n",
       "    <tr>\n",
       "      <th>2</th>\n",
       "      <td>anup.patel</td>\n",
       "      <td>2019-08-14 08:47:29</td>\n",
       "      <td>rm</td>\n",
       "      <td>ap_segment_data</td>\n",
       "      <td>18237358</td>\n",
       "      <td>252337648</td>\n",
       "      <td>anup.patel@choicehotels.com</td>\n",
       "    </tr>\n",
       "    <tr>\n",
       "      <th>3</th>\n",
       "      <td>anup.patel</td>\n",
       "      <td>2019-09-25 10:53:18</td>\n",
       "      <td>rm</td>\n",
       "      <td>ap_RM13_apr_cxl_collect_data</td>\n",
       "      <td>5967656</td>\n",
       "      <td>209264590</td>\n",
       "      <td>anup.patel@choicehotels.com</td>\n",
       "    </tr>\n",
       "    <tr>\n",
       "      <th>4</th>\n",
       "      <td>anup.patel</td>\n",
       "      <td>2019-10-04 12:41:41</td>\n",
       "      <td>rm</td>\n",
       "      <td>ap_RM18_cxl_data_2</td>\n",
       "      <td>20011446</td>\n",
       "      <td>627915710</td>\n",
       "      <td>anup.patel@choicehotels.com</td>\n",
       "    </tr>\n",
       "    <tr>\n",
       "      <th>5</th>\n",
       "      <td>anup.patel</td>\n",
       "      <td>2019-10-24 08:17:23</td>\n",
       "      <td>rm</td>\n",
       "      <td>ap_forecast_riskoppreport</td>\n",
       "      <td>11380794</td>\n",
       "      <td>627704480</td>\n",
       "      <td>anup.patel@choicehotels.com</td>\n",
       "    </tr>\n",
       "    <tr>\n",
       "      <th>6</th>\n",
       "      <td>anup.patel</td>\n",
       "      <td>2019-12-18 06:32:09</td>\n",
       "      <td>rm</td>\n",
       "      <td>ap_2020Q1_budget</td>\n",
       "      <td>5463542</td>\n",
       "      <td>397892208</td>\n",
       "      <td>anup.patel@choicehotels.com</td>\n",
       "    </tr>\n",
       "    <tr>\n",
       "      <th>7</th>\n",
       "      <td>anup.patel</td>\n",
       "      <td>2020-01-10 06:39:04</td>\n",
       "      <td>rm</td>\n",
       "      <td>ap_RM18_trans_data_2019</td>\n",
       "      <td>283894146</td>\n",
       "      <td>4655353421</td>\n",
       "      <td>anup.patel@choicehotels.com</td>\n",
       "    </tr>\n",
       "    <tr>\n",
       "      <th>8</th>\n",
       "      <td>bernardo.roschke</td>\n",
       "      <td>2019-09-03 06:45:34</td>\n",
       "      <td>DQ</td>\n",
       "      <td>br_sr_healthscore_hist</td>\n",
       "      <td>10197306</td>\n",
       "      <td>280872856</td>\n",
       "      <td>bernardo.roschke@choicehotels.com</td>\n",
       "    </tr>\n",
       "    <tr>\n",
       "      <th>9</th>\n",
       "      <td>bernardo.roschke</td>\n",
       "      <td>2019-09-12 12:44:26</td>\n",
       "      <td>MDA</td>\n",
       "      <td>br_forecast_output</td>\n",
       "      <td>9094800</td>\n",
       "      <td>196397494</td>\n",
       "      <td>bernardo.roschke@choicehotels.com</td>\n",
       "    </tr>\n",
       "  </tbody>\n",
       "</table>\n",
       "</div>"
      ],
      "text/plain": [
       "         owner_name          create_time table_schema  \\\n",
       "0        anup.patel  2019-07-15 11:29:51           rm   \n",
       "1        anup.patel  2019-08-14 08:22:16           rm   \n",
       "2        anup.patel  2019-08-14 08:47:29           rm   \n",
       "3        anup.patel  2019-09-25 10:53:18           rm   \n",
       "4        anup.patel  2019-10-04 12:41:41           rm   \n",
       "5        anup.patel  2019-10-24 08:17:23           rm   \n",
       "6        anup.patel  2019-12-18 06:32:09           rm   \n",
       "7        anup.patel  2020-01-10 06:39:04           rm   \n",
       "8  bernardo.roschke  2019-09-03 06:45:34           DQ   \n",
       "9  bernardo.roschke  2019-09-12 12:44:26          MDA   \n",
       "\n",
       "                     table_name  row_count  byte_count   \\\n",
       "0       ap_comm_perf_daily_data    6369978    141413728   \n",
       "1               ap_channel_data    6087118     81609660   \n",
       "2               ap_segment_data   18237358    252337648   \n",
       "3  ap_RM13_apr_cxl_collect_data    5967656    209264590   \n",
       "4            ap_RM18_cxl_data_2   20011446    627915710   \n",
       "5     ap_forecast_riskoppreport   11380794    627704480   \n",
       "6              ap_2020Q1_budget    5463542    397892208   \n",
       "7       ap_RM18_trans_data_2019  283894146   4655353421   \n",
       "8        br_sr_healthscore_hist   10197306    280872856   \n",
       "9            br_forecast_output    9094800    196397494   \n",
       "\n",
       "                               email  \n",
       "0        anup.patel@choicehotels.com  \n",
       "1        anup.patel@choicehotels.com  \n",
       "2        anup.patel@choicehotels.com  \n",
       "3        anup.patel@choicehotels.com  \n",
       "4        anup.patel@choicehotels.com  \n",
       "5        anup.patel@choicehotels.com  \n",
       "6        anup.patel@choicehotels.com  \n",
       "7        anup.patel@choicehotels.com  \n",
       "8  bernardo.roschke@choicehotels.com  \n",
       "9  bernardo.roschke@choicehotels.com  "
      ]
     },
     "execution_count": 90,
     "metadata": {},
     "output_type": "execute_result"
    }
   ],
   "source": []
  },
  {
   "cell_type": "code",
   "execution_count": null,
   "metadata": {},
   "outputs": [],
   "source": []
  },
  {
   "cell_type": "code",
   "execution_count": null,
   "metadata": {},
   "outputs": [],
   "source": []
  }
 ],
 "metadata": {
  "kernelspec": {
   "display_name": "Python 3",
   "language": "python",
   "name": "python3"
  },
  "language_info": {
   "codemirror_mode": {
    "name": "ipython",
    "version": 3
   },
   "file_extension": ".py",
   "mimetype": "text/x-python",
   "name": "python",
   "nbconvert_exporter": "python",
   "pygments_lexer": "ipython3",
   "version": "3.7.5"
  }
 },
 "nbformat": 4,
 "nbformat_minor": 2
}
