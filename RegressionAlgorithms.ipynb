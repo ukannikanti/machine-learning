{
 "cells": [
  {
   "cell_type": "code",
   "execution_count": null,
   "metadata": {},
   "outputs": [],
   "source": [
    "from sklearn.linear_model import LinearRegression\n",
    "from sklearn.linear_model import Ridge\n",
    "from sklearn.linear_model import Lasso\n",
    "from sklearn.neighbors import KNeighborsRegressor\n",
    "from sklearn.metrics import mean_squared_error\n",
    "from sklearn.metrics import mean_absolute_error\n",
    "import pandas as pd\n",
    "import numpy as np\n",
    "import time as time\n",
    "from sklearn.model_selection import GridSearchCV"
   ]
  },
  {
   "cell_type": "markdown",
   "metadata": {},
   "source": [
    "#### Load Preprocessed Datasets"
   ]
  },
  {
   "cell_type": "code",
   "execution_count": null,
   "metadata": {},
   "outputs": [],
   "source": [
    "housing_features_simple_imputer = pd.read_csv(\"/Users/ukannika/work/personal/machine-learning/datasets/housing_features_simple_imputer.csv\", \n",
    "                 sep=\",\", header=None)\n",
    "\n",
    "housing_features_iterative_imputer = pd.read_csv(\"/Users/ukannika/work/personal/machine-learning/datasets/housing_features_iterative_imputer.csv\", \n",
    "                 sep=\",\", header=None)\n",
    "\n",
    "housing_features_knn_imputer = pd.read_csv(\"/Users/ukannika/work/personal/machine-learning/datasets/housing_features_knn_imputer.csv\", \n",
    "                 sep=\",\", header=None)\n",
    "\n",
    "housing_labels = pd.read_csv(\"/Users/ukannika/work/personal/machine-learning/datasets/housing_labels.csv\", sep=\",\", header=None)\n",
    "\n",
    "test_housing_features = pd.read_csv(\"/Users/ukannika/work/personal/machine-learning/datasets/test_housing_features.csv\", sep=\",\", header=None)\n",
    "test_housing_labels = pd.read_csv(\"/Users/ukannika/work/personal/machine-learning/datasets/test_housing_labels.csv\", sep=\",\", header=None)\n",
    "\n",
    "print(\"housing_features_simple_imputer %s \" % (housing_features_simple_imputer.shape,))\n",
    "print(\"housing_features_iterative_imputer %s \" % (housing_features_iterative_imputer.shape,))\n",
    "print(\"housing_features_knn_imputer %s \" % (housing_features_knn_imputer.shape,))\n",
    "print(\"housing_labels %s \" % (housing_labels.shape,))\n",
    "\n",
    "\n",
    "print(\"test_housing_features %s \" % (test_housing_features.shape,))\n",
    "print(\"test_housing_labels %s \" % (test_housing_labels.shape,))"
   ]
  },
  {
   "cell_type": "markdown",
   "metadata": {},
   "source": [
    "#### Linear Regression\n",
    "\n",
    "In linear regression, the target value is expected to be a combination of the features.\n",
    "\n",
    "y(W, X) = XW + $\\epsilon$\n",
    "\n",
    "Closed form solution for W\n",
    "\n",
    "W = $(X^TX)^{-1}X^TY$\n",
    "\n",
    "**Cost Function** <br>\n",
    "*MSE(Mean Squared Error)* <br>\n",
    "*MAE(Mean Absolute Error)*\n"
   ]
  },
  {
   "cell_type": "code",
   "execution_count": null,
   "metadata": {},
   "outputs": [],
   "source": [
    "linear_regression = LinearRegression().fit(housing_features_simple_imputer, housing_labels)\n",
    "housing_predictions = linear_regression.predict(test_housing_features)\n",
    "\n",
    "# Calculate Error\n",
    "mse = mean_squared_error(y_true=test_housing_labels, y_pred=housing_predictions, squared=True)\n",
    "rmse = mean_squared_error(y_true=test_housing_labels, y_pred=housing_predictions, squared=False)\n",
    "mae = mean_absolute_error(y_true=test_housing_labels, y_pred=housing_predictions)\n",
    "\n",
    "print(\"MSE : %0.3f \" % mse)\n",
    "print(\"RMSE : %0.3f \" % rmse)\n",
    "print(\"MAE : %0.3f \" % rmse)"
   ]
  },
  {
   "cell_type": "code",
   "execution_count": null,
   "metadata": {},
   "outputs": [],
   "source": [
    "linear_regression = LinearRegression().fit(housing_features_iterative_imputer, housing_labels)\n",
    "housing_predictions = linear_regression.predict(test_housing_features)\n",
    "\n",
    "# Calculate Error\n",
    "mse = mean_squared_error(y_true=test_housing_labels, y_pred=housing_predictions, squared=True)\n",
    "rmse = mean_squared_error(y_true=test_housing_labels, y_pred=housing_predictions, squared=False)\n",
    "mae = mean_absolute_error(y_true=test_housing_labels, y_pred=housing_predictions)\n",
    "\n",
    "print(\"MSE : %0.3f \" % mse)\n",
    "print(\"RMSE : %0.3f \" % rmse)\n",
    "print(\"MAE : %0.3f \" % rmse)"
   ]
  },
  {
   "cell_type": "code",
   "execution_count": null,
   "metadata": {},
   "outputs": [],
   "source": []
  },
  {
   "cell_type": "code",
   "execution_count": null,
   "metadata": {},
   "outputs": [],
   "source": [
    "linear_regression.coef_"
   ]
  },
  {
   "cell_type": "markdown",
   "metadata": {},
   "source": [
    "#### Regularization L1 and L2\n",
    "\n",
    "L1 => Lasso (Sparsity) <br>\n",
    "L2 => Ridge (Shrink weights towards to zero)"
   ]
  },
  {
   "cell_type": "code",
   "execution_count": null,
   "metadata": {},
   "outputs": [],
   "source": [
    "# For this example, we may not see any improve by using Lasso/Ridge Regression.\n",
    "# Tune hyperparameter alpha\n",
    "ridge = Ridge(alpha=0.3, max_iter=10000).fit(housing_features_simple_imputer, housing_labels)\n",
    "housing_predictions = ridge.predict(test_housing_features)\n",
    "\n",
    "# Calculate Error\n",
    "mse = mean_squared_error(y_true=test_housing_labels, y_pred=housing_predictions, squared=True)\n",
    "rmse = mean_squared_error(y_true=test_housing_labels, y_pred=housing_predictions, squared=False)\n",
    "mae = mean_absolute_error(y_true=test_housing_labels, y_pred=housing_predictions)\n",
    "\n",
    "print(\"MSE : %0.3f \" % mse)\n",
    "print(\"RMSE : %0.3f \" % rmse)\n",
    "print(\"MAE : %0.3f \" % rmse)"
   ]
  },
  {
   "cell_type": "code",
   "execution_count": null,
   "metadata": {},
   "outputs": [],
   "source": [
    "lasso = Lasso(alpha=0.3, max_iter=50000).fit(housing_features_simple_imputer, housing_labels)\n",
    "housing_predictions = lasso.predict(test_housing_features)\n",
    "\n",
    "# Calculate Error\n",
    "mse = mean_squared_error(y_true=test_housing_labels, y_pred=housing_predictions, squared=True)\n",
    "rmse = mean_squared_error(y_true=test_housing_labels, y_pred=housing_predictions, squared=False)\n",
    "mae = mean_absolute_error(y_true=test_housing_labels, y_pred=housing_predictions)\n",
    "\n",
    "print(\"MSE : %0.3f \" % mse)\n",
    "print(\"RMSE : %0.3f \" % rmse)\n",
    "print(\"MAE : %0.3f \" % rmse)"
   ]
  },
  {
   "cell_type": "code",
   "execution_count": null,
   "metadata": {},
   "outputs": [],
   "source": [
    "# construct the set of hyperparameters to tune\n",
    "print(\"Tuning hyperparameters via grid search\")\n",
    "params = {\"alpha\": np.arange(0.1, 2.0, 0.2)}\n",
    "grid = GridSearchCV(ridge, params)\n",
    "start = time.time()\n",
    "grid.fit(housing_features_simple_imputer, housing_labels)\n",
    "\n",
    "# evaluate the best grid searched model on the testing data\n",
    "print(\"Grid search took {:.2f} seconds\".format(time.time() - start))\n",
    "acc = grid.score(test_housing_features, test_housing_labels)\n",
    "\n",
    "print(\"Grid search accuracy: {:.2f}%\".format(acc * 100))\n",
    "print(\"Grid search best parameters: {}\".format(grid.best_params_))"
   ]
  },
  {
   "cell_type": "code",
   "execution_count": null,
   "metadata": {},
   "outputs": [],
   "source": [
    "housing_predictions[:1]"
   ]
  },
  {
   "cell_type": "markdown",
   "metadata": {},
   "source": [
    "#### K-NN Regression"
   ]
  },
  {
   "cell_type": "code",
   "execution_count": null,
   "metadata": {},
   "outputs": [],
   "source": [
    "knn_regressor = KNeighborsRegressor(n_neighbors=5, leaf_size=30, p=2, metric='minkowski',\n",
    "                                    weights='uniform', algorithm='ball_tree')\n",
    "\n",
    "print(\"Tuning hyperparameters via grid search\")\n",
    "params = {\"n_neighbors\": np.arange(5, 15, 2), \"leaf_size\": np.arange(10, 30, 2), \"p\" : [1, 2]}\n",
    "grid = GridSearchCV(knn_regressor, params)\n",
    "start = time.time()\n",
    "grid.fit(housing_features_simple_imputer, housing_labels)\n",
    "\n",
    "# evaluate the best grid searched model on the testing data\n",
    "print(\"Grid search took {:.2f} seconds\".format(time.time() - start))\n",
    "acc = grid.score(test_housing_features, test_housing_labels)\n",
    "\n",
    "print(\"Grid search accuracy: {:.2f}%\".format(acc * 100))\n",
    "print(\"Grid search best parameters: {}\".format(grid.best_params_))"
   ]
  },
  {
   "cell_type": "code",
   "execution_count": null,
   "metadata": {},
   "outputs": [],
   "source": [
    "knn_regressor = KNeighborsRegressor(n_neighbors=9, leaf_size=26, p=2, metric='minkowski',\n",
    "                                    weights='uniform', algorithm='ball_tree').fit(housing_features_simple_imputer, housing_labels)\n",
    "\n",
    "housing_predictions = knn_regressor.predict(test_housing_features)\n",
    "\n",
    "# Calculate Error\n",
    "mse = mean_squared_error(y_true=test_housing_labels, y_pred=housing_predictions, squared=True)\n",
    "rmse = mean_squared_error(y_true=test_housing_labels, y_pred=housing_predictions, squared=False)\n",
    "mae = mean_absolute_error(y_true=test_housing_labels, y_pred=housing_predictions)\n",
    "\n",
    "print(\"MSE : %0.3f \" % mse)\n",
    "print(\"RMSE : %0.3f \" % rmse)\n",
    "print(\"MAE : %0.3f \" % rmse)"
   ]
  }
 ],
 "metadata": {
  "kernelspec": {
   "display_name": "Python 3",
   "language": "python",
   "name": "python3"
  },
  "language_info": {
   "codemirror_mode": {
    "name": "ipython",
    "version": 3
   },
   "file_extension": ".py",
   "mimetype": "text/x-python",
   "name": "python",
   "nbconvert_exporter": "python",
   "pygments_lexer": "ipython3",
   "version": "3.7.5"
  }
 },
 "nbformat": 4,
 "nbformat_minor": 2
}
