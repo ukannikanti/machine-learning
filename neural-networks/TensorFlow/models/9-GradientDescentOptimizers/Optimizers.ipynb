{
 "cells": [
  {
   "cell_type": "markdown",
   "metadata": {},
   "source": [
    "#### Optimizers\n",
    "\n",
    "class SGD: Gradient descent (with momentum) optimizer.\n",
    "\n",
    "class Adagrad: Optimizer that implements the Adagrad algorithm.\n",
    "\n",
    "class Nadam: Optimizer that implements the NAdam algorithm.\n",
    "\n",
    "class RMSprop: Optimizer that implements the RMSprop algorithm.\n",
    "\n",
    "class Adam: Optimizer that implements the Adam algorithm.\n",
    "\n",
    "class Ftrl: Optimizer that implements the FTRL algorithm. [Look at add click prediction paper for more detail]"
   ]
  },
  {
   "cell_type": "code",
   "execution_count": null,
   "metadata": {},
   "outputs": [],
   "source": []
  }
 ],
 "metadata": {
  "kernelspec": {
   "display_name": "Python 3",
   "language": "python",
   "name": "python3"
  },
  "language_info": {
   "codemirror_mode": {
    "name": "ipython",
    "version": 3
   },
   "file_extension": ".py",
   "mimetype": "text/x-python",
   "name": "python",
   "nbconvert_exporter": "python",
   "pygments_lexer": "ipython3",
   "version": "3.7.8"
  }
 },
 "nbformat": 4,
 "nbformat_minor": 4
}
