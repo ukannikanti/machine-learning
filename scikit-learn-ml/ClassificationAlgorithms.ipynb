{
 "cells": [
  {
   "cell_type": "markdown",
   "metadata": {},
   "source": [
    "#### Classification Algorithms:\n",
    "\n",
    "   **Classification Types:**\n",
    "    1. Binary Classification:\n",
    "            Binary or binomial classification is the task of classifying the elements of a given set into two \n",
    "            groups (predicting which group each one belongs to) on the basis of a classification rule.\n",
    "           \n",
    "            Classifying instances into one of two classes is called binary classification.\n",
    "            \n",
    "    2. MultiClass Classification:\n",
    "             Multiclass or multinomial classification is the problem of classifying instances into one of three or \n",
    "             more classes. \n",
    "    \n",
    "    3. Ordinal Classification:\n",
    "    \n",
    "    4. MultiLabel Classification:\n",
    "            Multi-label classification and the strongly related problem of multi-output classification are variants \n",
    "            of the classification problem where multiple labels may be assigned to each instance.\n",
    "\n",
    "   **Linear Models**\n",
    "       1. Logistic Regression\n",
    "       2. Perceptron\n",
    "       3. Linear Discriminant Analysis (LDA)\n",
    "       4. Support Vector Machines (Linear Kernel)\n",
    "       5. SGDClassifier\n",
    "       \n",
    "   **Quadtratic Models**\n",
    "       1. Quadtratic Discriminant Analysis (QDA)\n",
    "       \n",
    "   **Non Linear Models**\n",
    "       1. Support Vector Machines (Non-Linear Kernels)\n",
    "       2. KNN Classification\n",
    "       3. Decision Trees\n",
    "           a. Random Forest (Bagging -> Solves Variance Problem)\n",
    "           b. GradientBoosting/XGBoost (Boosting -> Solves Bias Problem)\n",
    "      \n",
    "   **Common Loss Functions Used In Classification Algorithms**\n",
    "       "
   ]
  },
  {
   "cell_type": "code",
   "execution_count": 43,
   "metadata": {},
   "outputs": [],
   "source": [
    "import pandas as pd\n",
    "import numpy as np\n",
    "from sklearn.datasets import load_digits\n",
    "from sklearn.model_selection import train_test_split\n",
    "from sklearn.linear_model import LogisticRegression"
   ]
  },
  {
   "cell_type": "markdown",
   "metadata": {},
   "source": [
    "#### Load MNIST Dataset"
   ]
  },
  {
   "cell_type": "code",
   "execution_count": 44,
   "metadata": {},
   "outputs": [],
   "source": [
    "digits = load_digits()"
   ]
  },
  {
   "cell_type": "code",
   "execution_count": 45,
   "metadata": {},
   "outputs": [
    {
     "name": "stdout",
     "output_type": "stream",
     "text": [
      "Training samples count for each label [178 182 177 183 181 182 181 179 174 180] \n",
      "Testing samples count for each label [54 55 53 55 54 55 54 54 52 54] \n"
     ]
    }
   ],
   "source": [
    "X_digits = digits.data\n",
    "y_digits = digits.target\n",
    "\n",
    "print(\"Training samples count for each label %s \" % np.bincount(y_digits))\n",
    "\n",
    "# Split data into train and test subsets\n",
    "X_train, X_test, y_train, y_test  = train_test_split(X_digits, y_digits, test_size=0.3, random_state=42, shuffle=True, stratify=y_digits)\n",
    "\n",
    "print(\"Testing samples count for each label %s \" % np.bincount(y_test))"
   ]
  },
  {
   "cell_type": "markdown",
   "metadata": {},
   "source": [
    "#### Logistic Regression"
   ]
  },
  {
   "cell_type": "code",
   "execution_count": null,
   "metadata": {},
   "outputs": [],
   "source": [
    "LogisticRegression(penalty='l2', dual=False, tol=0.0001, C=1.0, \n",
    "                   fit_intercept=True, intercept_scaling=1, class_weight=None, \n",
    "                   random_state=None, solver='lbfgs', max_iter=100, \n",
    "                   multi_class='auto', verbose=0, \n",
    "                   warm_start=False, \n",
    "                   n_jobs=None, l1_ratio=None"
   ]
  }
 ],
 "metadata": {
  "kernelspec": {
   "display_name": "Python 3",
   "language": "python",
   "name": "python3"
  },
  "language_info": {
   "codemirror_mode": {
    "name": "ipython",
    "version": 3
   },
   "file_extension": ".py",
   "mimetype": "text/x-python",
   "name": "python",
   "nbconvert_exporter": "python",
   "pygments_lexer": "ipython3",
   "version": "3.7.6"
  }
 },
 "nbformat": 4,
 "nbformat_minor": 2
}
