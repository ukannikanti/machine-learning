{
 "cells": [
  {
   "cell_type": "markdown",
   "metadata": {},
   "source": [
    "#### Classification Algorithms:\n",
    "\n",
    "   **Linear Models**\n",
    "       1. Logistic Regression\n",
    "       2. Perceptron\n",
    "       3. Linear Discriminant Analysis (LDA)\n",
    "       4. Support Vector Machines (Linear Kernel)\n",
    "       5. SGDClassifier\n",
    "       \n",
    "   **Quadtratic Models**\n",
    "       1. Quadtratic Discriminant Analysis (QDA)\n",
    "       \n",
    "   **Non Linear Models**\n",
    "       1. Support Vector Machines (Non-Linear Kernels)\n",
    "       2. KNN Classification\n",
    "       3. Decision Trees\n",
    "           a. Random Forest (Bagging -> Solves Variance Problem)\n",
    "           b. GradientBoosting/XGBoost (Boosting -> Solves Bias Problem)\n",
    "      \n",
    "   **Common Loss Functions & Performance Measures**\n",
    "       1. Cross-Entropy\n",
    "       2. KL-Divergence\n",
    "       3. Log Loss \n",
    "       4. Accuracy Score\n",
    "       5. Confusion Matrix\n",
    "       6. Precision\n",
    "       7. Recall\n",
    "       8. F1-Score\n",
    "       9. ROC Curve\n",
    "       10.AUC \n",
    "       \n",
    "       "
   ]
  },
  {
   "cell_type": "code",
   "execution_count": 1,
   "metadata": {},
   "outputs": [],
   "source": [
    "import pandas as pd\n",
    "import numpy as np\n",
    "from sklearn.datasets import load_digits\n",
    "from sklearn.datasets import load_breast_cancer\n",
    "from sklearn.model_selection import train_test_split\n",
    "from sklearn.linear_model import LogisticRegression\n",
    "from sklearn.datasets import load_digits\n",
    "from sklearn.metrics import accuracy_score\n",
    "from sklearn.metrics import confusion_matrix, precision_score, recall_score, roc_curve, precision_recall_curve\n",
    "import plotly.express as px\n",
    "from matplotlib import pyplot as plt\n",
    "import itertools\n",
    "from sklearn.preprocessing import label_binarize\n",
    "from sklearn.linear_model import Perceptron\n",
    "from sklearn.discriminant_analysis import LinearDiscriminantAnalysis\n",
    "from sklearn.discriminant_analysis import QuadraticDiscriminantAnalysis\n",
    "from sklearn.svm import SVC\n",
    "from sklearn.neighbors import KNeighborsClassifier"
   ]
  },
  {
   "cell_type": "markdown",
   "metadata": {},
   "source": [
    "#### Load  Dataset \n",
    "\n",
    "1. Binary Classification\n",
    "2. Multi-Class Classification\n",
    "3. Multi-Label Classification(Will explore more on this type of classification in Neural Networks)"
   ]
  },
  {
   "cell_type": "code",
   "execution_count": 2,
   "metadata": {},
   "outputs": [
    {
     "name": "stdout",
     "output_type": "stream",
     "text": [
      "Frequency of each element in original digits dataset [178 182 177 183 181 182 181 179 174 180] \n",
      "Frequency of each element in digits train dataset [124 127 124 128 127 127 127 125 122 126] \n",
      "Frequency of each element in digits test dataset [54 55 53 55 54 55 54 54 52 54] \n",
      "Frequency of each element in original breast cancer dataset [178 182 177 183 181 182 181 179 174 180] \n",
      "Frequency of each element in breast cancer  train dataset [148 250] \n",
      "Frequency of each element in breast cancer  test dataset [ 64 107] \n"
     ]
    }
   ],
   "source": [
    "# Load multi-class classification dataset.\n",
    "digits = load_digits()\n",
    "X_digits = digits.data\n",
    "y_digits = digits.target\n",
    "\n",
    "# Load breast cancer classification dataset.\n",
    "breast_cancer = load_breast_cancer()\n",
    "X_cancer = breast_cancer.data\n",
    "y_cancer = breast_cancer.target\n",
    "\n",
    "# Split data into train and test subsets\n",
    "X_digits_train, X_digits_test, y_digits_train, y_digits_test  = train_test_split(X_digits, y_digits, test_size=0.3, random_state=42, shuffle=True, stratify=y_digits)\n",
    "print(\"Frequency of each element in original digits dataset %s \" % np.bincount(y_digits))\n",
    "print(\"Frequency of each element in digits train dataset %s \" % np.bincount(y_digits_train))\n",
    "print(\"Frequency of each element in digits test dataset %s \" % np.bincount(y_digits_test))\n",
    "\n",
    "# Split data into train and test subsets\n",
    "X_binary_train, X_binary_test, y_binary_train, y_binary_test  = train_test_split(X_cancer, y_cancer, test_size=0.3, random_state=42, shuffle=True, stratify=y_cancer)\n",
    "print(\"Frequency of each element in original breast cancer dataset %s \" % np.bincount(y_digits))\n",
    "print(\"Frequency of each element in breast cancer  train dataset %s \" % np.bincount(y_binary_train))\n",
    "print(\"Frequency of each element in breast cancer  test dataset %s \" % np.bincount(y_binary_test))\n"
   ]
  },
  {
   "cell_type": "markdown",
   "metadata": {},
   "source": [
    "#### Logistic Regression"
   ]
  },
  {
   "cell_type": "code",
   "execution_count": 19,
   "metadata": {},
   "outputs": [
    {
     "name": "stdout",
     "output_type": "stream",
     "text": [
      "Accuracy : 0.95 \n",
      "Precision Score : 0.94 \n",
      "Recall Score : 0.98 \n",
      "Confusion Matrix: \n",
      "  [[ 57   7]\n",
      " [  2 105]]\n"
     ]
    }
   ],
   "source": [
    "# Binary Classification\n",
    "logistic_regression_binary = LogisticRegression(penalty='l2', dual=False, tol=0.0001, C=1.0, \n",
    "                                        fit_intercept=True, intercept_scaling=1, class_weight=None, \n",
    "                                        random_state=None, solver='lbfgs', max_iter=10000, \n",
    "                                        multi_class='ovr', verbose=0, \n",
    "                                        warm_start=False, \n",
    "                                        n_jobs=None, l1_ratio=None)\n",
    "\n",
    "logistic_regression_binary.fit(X_binary_train, y_binary_train)\n",
    "\n",
    "predictions = logistic_regression_binary.predict(X_binary_test)\n",
    "\n",
    "# Performance Measures for Binary Classifier\n",
    "labels=[0, 1]\n",
    "accuracyScore = accuracy_score(y_binary_test, predictions, normalize=True)\n",
    "confusionMatrix = confusion_matrix(y_binary_test, predictions, labels = labels, sample_weight=None, normalize=None)\n",
    "precisionScore = precision_score(y_binary_test, predictions, labels = labels, average='binary')\n",
    "recallScore = recall_score(y_binary_test, predictions, labels=labels, average='binary')\n",
    "\n",
    "print(\"Accuracy : %.2f \" % accuracyScore)\n",
    "print(\"Precision Score : %.2f \" % precisionScore)\n",
    "print(\"Recall Score : %.2f \" % recallScore)\n",
    "print(\"Confusion Matrix: \\n \", confusionMatrix)"
   ]
  },
  {
   "cell_type": "code",
   "execution_count": 15,
   "metadata": {},
   "outputs": [
    {
     "data": {
      "text/plain": [
       "171"
      ]
     },
     "execution_count": 15,
     "metadata": {},
     "output_type": "execute_result"
    }
   ],
   "source": [
    "predictions.size"
   ]
  },
  {
   "cell_type": "markdown",
   "metadata": {},
   "source": [
    "#### Adjust Decision Threshold \n",
    "\n",
    "In logistic regression, it computes a score based on decision function, and if that score is greater than a threshold, it assigns the instance to the positive class or else it assigns the instance to the negative class. \n",
    "Adjusting threshold value impacts the precision and recall. \n",
    "\n",
    "\n",
    "**predict_proba** is a function of a (soft) classifier outputting the probability of the instance being in each of the classes.\n",
    "\n",
    "**decision_function** is a function finds the distance to the separating hyperplane. For example, a(n) SVM classifier finds hyperplanes separating the space into areas associated with classification outcomes. This function, given a point, finds the distance to the separators.\n"
   ]
  },
  {
   "cell_type": "code",
   "execution_count": 6,
   "metadata": {},
   "outputs": [
    {
     "data": {
      "text/plain": [
       "[(-1.8798748130060332, array([0.868, 0.132]), 0),\n",
       " (4.965818543779548, array([0.007, 0.993]), 1),\n",
       " (8.875015017872645, array([0.000, 1.000]), 1),\n",
       " (-4.295128269505366, array([0.987, 0.013]), 0),\n",
       " (0.5870806763874938, array([0.357, 0.643]), 1),\n",
       " (-4.1430993126384905, array([0.984, 0.016]), 0),\n",
       " (11.621348636833792, array([0.000, 1.000]), 1),\n",
       " (-6.755686292388109, array([0.999, 0.001]), 0),\n",
       " (6.310295264950412, array([0.002, 0.998]), 1),\n",
       " (-19.566490183533514, array([1.000, 0.000]), 0),\n",
       " (9.111185376760496, array([0.000, 1.000]), 1),\n",
       " (4.6016614268897875, array([0.010, 0.990]), 1),\n",
       " (-6.380339867160796, array([0.998, 0.002]), 0),\n",
       " (0.2007258600176165, array([0.450, 0.550]), 1),\n",
       " (7.873941685474836, array([0.000, 1.000]), 1),\n",
       " (-1.4706857184194853, array([0.813, 0.187]), 0),\n",
       " (-11.097036987814864, array([1.000, 0.000]), 0),\n",
       " (3.176272985860951, array([0.040, 0.960]), 1),\n",
       " (9.86635751317046, array([0.000, 1.000]), 1),\n",
       " (3.0940439040608503, array([0.043, 0.957]), 1),\n",
       " (4.718820521140493, array([0.009, 0.991]), 1),\n",
       " (2.3269592966570762, array([0.089, 0.911]), 1),\n",
       " (4.2303052363342175, array([0.014, 0.986]), 1),\n",
       " (-13.00110511541229, array([1.000, 0.000]), 0),\n",
       " (-20.45012161101064, array([1.000, 0.000]), 0),\n",
       " (1.6752207439061344, array([0.158, 0.842]), 1),\n",
       " (5.701443318981308, array([0.003, 0.997]), 1),\n",
       " (1.5360090437799023, array([0.177, 0.823]), 1),\n",
       " (-3.784116275809481, array([0.978, 0.022]), 0),\n",
       " (-10.499462758992497, array([1.000, 0.000]), 0),\n",
       " (2.964194921210325, array([0.049, 0.951]), 1),\n",
       " (-27.924321175567993, array([1.000, 0.000]), 0),\n",
       " (5.703098966483772, array([0.003, 0.997]), 1),\n",
       " (7.049681296530611, array([0.001, 0.999]), 1),\n",
       " (-23.960198023340954, array([1.000, 0.000]), 0),\n",
       " (7.674251877950734, array([0.000, 1.000]), 1),\n",
       " (2.4009903994133275, array([0.083, 0.917]), 1),\n",
       " (6.5360404453537235, array([0.001, 0.999]), 1),\n",
       " (4.715518766405527, array([0.009, 0.991]), 1),\n",
       " (2.2963493826707584, array([0.091, 0.909]), 1),\n",
       " (1.5046025231864775, array([0.182, 0.818]), 1),\n",
       " (-8.775726901069309, array([1.000, 0.000]), 0),\n",
       " (8.120006918576319, array([0.000, 1.000]), 1),\n",
       " (11.983288107136929, array([0.000, 1.000]), 1),\n",
       " (6.472731490582863, array([0.002, 0.998]), 1),\n",
       " (0.5252694553668853, array([0.372, 0.628]), 1),\n",
       " (3.682519830189552, array([0.025, 0.975]), 1),\n",
       " (8.322712662870213, array([0.000, 1.000]), 1),\n",
       " (9.956724875032528, array([0.000, 1.000]), 1),\n",
       " (-1.947283628999326, array([0.875, 0.125]), 0),\n",
       " (7.5508349704851625, array([0.001, 0.999]), 1),\n",
       " (4.32202572956729, array([0.013, 0.987]), 1),\n",
       " (-10.276341641996932, array([1.000, 0.000]), 0),\n",
       " (-13.796455056811023, array([1.000, 0.000]), 0),\n",
       " (6.16106234580942, array([0.002, 0.998]), 1),\n",
       " (4.764796179651974, array([0.008, 0.992]), 1),\n",
       " (-14.098146447910029, array([1.000, 0.000]), 0),\n",
       " (5.29688235818675, array([0.005, 0.995]), 1),\n",
       " (1.3531139245919341, array([0.205, 0.795]), 1),\n",
       " (-0.18805628004072616, array([0.547, 0.453]), 0),\n",
       " (-8.0631580439582, array([1.000, 0.000]), 0),\n",
       " (-13.849831524348804, array([1.000, 0.000]), 0),\n",
       " (-12.982884750043173, array([1.000, 0.000]), 0),\n",
       " (11.908025467474364, array([0.000, 1.000]), 1),\n",
       " (8.157101695993365, array([0.000, 1.000]), 1),\n",
       " (7.20315247578954, array([0.001, 0.999]), 1),\n",
       " (4.795186744524095, array([0.008, 0.992]), 1),\n",
       " (-24.460797585094202, array([1.000, 0.000]), 0),\n",
       " (6.912645274959221, array([0.001, 0.999]), 1),\n",
       " (7.363927635053901, array([0.001, 0.999]), 1),\n",
       " (-22.073012391467987, array([1.000, 0.000]), 0),\n",
       " (-5.903535628291646, array([0.997, 0.003]), 0),\n",
       " (-8.15449699915116, array([1.000, 0.000]), 0),\n",
       " (-17.949605750838142, array([1.000, 0.000]), 0),\n",
       " (2.057070426592851, array([0.113, 0.887]), 1),\n",
       " (8.596079341331432, array([0.000, 1.000]), 1),\n",
       " (4.027467590831623, array([0.018, 0.982]), 1),\n",
       " (4.507323576320637, array([0.011, 0.989]), 1),\n",
       " (-8.447249673259446, array([1.000, 0.000]), 0),\n",
       " (7.122565239084583, array([0.001, 0.999]), 1),\n",
       " (11.081066364908924, array([0.000, 1.000]), 1),\n",
       " (4.790937232098841, array([0.008, 0.992]), 1),\n",
       " (-10.618375210853404, array([1.000, 0.000]), 0),\n",
       " (8.28788195447644, array([0.000, 1.000]), 1),\n",
       " (-32.308630743759224, array([1.000, 0.000]), 0),\n",
       " (7.699413381247407, array([0.000, 1.000]), 1),\n",
       " (5.872850226969053, array([0.003, 0.997]), 1),\n",
       " (-34.64323749195603, array([1.000, 0.000]), 0),\n",
       " (-17.763313875675802, array([1.000, 0.000]), 0),\n",
       " (-13.008204245161327, array([1.000, 0.000]), 0),\n",
       " (-18.85487982508287, array([1.000, 0.000]), 0),\n",
       " (4.994457066982655, array([0.007, 0.993]), 1),\n",
       " (3.645541601782039, array([0.025, 0.975]), 1),\n",
       " (10.811253682319109, array([0.000, 1.000]), 1),\n",
       " (7.030217541219965, array([0.001, 0.999]), 1),\n",
       " (4.240967127128911, array([0.014, 0.986]), 1),\n",
       " (-4.273904275274695, array([0.986, 0.014]), 0),\n",
       " (5.789988085512036, array([0.003, 0.997]), 1),\n",
       " (4.824462127099604, array([0.008, 0.992]), 1),\n",
       " (14.765046121448451, array([0.000, 1.000]), 1),\n",
       " (2.8595061984360726, array([0.054, 0.946]), 1),\n",
       " (9.821067427826694, array([0.000, 1.000]), 1),\n",
       " (3.0476188687104866, array([0.045, 0.955]), 1),\n",
       " (-6.920471924606549, array([0.999, 0.001]), 0),\n",
       " (1.5067689708057017, array([0.181, 0.819]), 1),\n",
       " (3.920669010760527, array([0.019, 0.981]), 1),\n",
       " (2.726894137251268, array([0.061, 0.939]), 1),\n",
       " (6.483724756070988, array([0.002, 0.998]), 1),\n",
       " (-2.45166474704806, array([0.921, 0.079]), 0),\n",
       " (5.662662638497402, array([0.003, 0.997]), 1),\n",
       " (1.3993058303738586, array([0.198, 0.802]), 1),\n",
       " (4.560320873349774, array([0.010, 0.990]), 1),\n",
       " (-4.240629255273532, array([0.986, 0.014]), 0),\n",
       " (8.545165553346873, array([0.000, 1.000]), 1),\n",
       " (7.57864448413946, array([0.001, 0.999]), 1),\n",
       " (-0.42813277802110505, array([0.605, 0.395]), 0),\n",
       " (2.27399375357475, array([0.093, 0.907]), 1),\n",
       " (1.7387286745837862, array([0.149, 0.851]), 1),\n",
       " (9.320146015309025, array([0.000, 1.000]), 1),\n",
       " (-14.275417213744891, array([1.000, 0.000]), 0),\n",
       " (5.309162352831848, array([0.005, 0.995]), 1),\n",
       " (7.107500151260762, array([0.001, 0.999]), 1),\n",
       " (-16.50161787369954, array([1.000, 0.000]), 0),\n",
       " (5.494249284306424, array([0.004, 0.996]), 1),\n",
       " (1.319431710247887, array([0.211, 0.789]), 1),\n",
       " (8.651520249999749, array([0.000, 1.000]), 1),\n",
       " (2.187237893781539, array([0.101, 0.899]), 1),\n",
       " (-4.427904361317136, array([0.988, 0.012]), 0),\n",
       " (7.937285000831409, array([0.000, 1.000]), 1),\n",
       " (5.3516568626870615, array([0.005, 0.995]), 1),\n",
       " (4.186147734973442, array([0.015, 0.985]), 1),\n",
       " (7.323684017023236, array([0.001, 0.999]), 1),\n",
       " (-4.104525112316274, array([0.984, 0.016]), 0),\n",
       " (6.126085865348152, array([0.002, 0.998]), 1),\n",
       " (-7.0109077094129795, array([0.999, 0.001]), 0),\n",
       " (9.494476117047185, array([0.000, 1.000]), 1),\n",
       " (-2.8030162068416793, array([0.943, 0.057]), 0),\n",
       " (4.151834245016907, array([0.015, 0.985]), 1),\n",
       " (0.9046041228419703, array([0.288, 0.712]), 1),\n",
       " (1.6080666587728132, array([0.167, 0.833]), 1),\n",
       " (6.116963385997138, array([0.002, 0.998]), 1),\n",
       " (8.255411680246485, array([0.000, 1.000]), 1),\n",
       " (-14.604531280510624, array([1.000, 0.000]), 0),\n",
       " (-15.084447285349814, array([1.000, 0.000]), 0),\n",
       " (-73.84660423428396, array([1.000, 0.000]), 0),\n",
       " (-10.342149782436362, array([1.000, 0.000]), 0),\n",
       " (-20.081870574817454, array([1.000, 0.000]), 0),\n",
       " (8.953817924685627, array([0.000, 1.000]), 1),\n",
       " (-0.9298549831644678, array([0.717, 0.283]), 0),\n",
       " (11.638289439833622, array([0.000, 1.000]), 1),\n",
       " (6.0797653527709485, array([0.002, 0.998]), 1),\n",
       " (9.678685473214308, array([0.000, 1.000]), 1),\n",
       " (-30.27588662529058, array([1.000, 0.000]), 0),\n",
       " (4.267449091137809, array([0.014, 0.986]), 1),\n",
       " (-6.186825663085866, array([0.998, 0.002]), 0),\n",
       " (4.594089791639732, array([0.010, 0.990]), 1),\n",
       " (9.160545882513244, array([0.000, 1.000]), 1),\n",
       " (-6.7676967071784055, array([0.999, 0.001]), 0),\n",
       " (6.199404423010183, array([0.002, 0.998]), 1),\n",
       " (3.5981964424144763, array([0.027, 0.973]), 1),\n",
       " (-2.175682093024239, array([0.898, 0.102]), 0),\n",
       " (-4.325133446026506, array([0.987, 0.013]), 0),\n",
       " (4.274456402467518, array([0.014, 0.986]), 1),\n",
       " (3.57206540468934, array([0.027, 0.973]), 1),\n",
       " (-14.32535329500644, array([1.000, 0.000]), 0),\n",
       " (7.8809663573085125, array([0.000, 1.000]), 1),\n",
       " (9.430829648548137, array([0.000, 1.000]), 1),\n",
       " (11.229298568500782, array([0.000, 1.000]), 1),\n",
       " (0.5792370513799412, array([0.359, 0.641]), 1),\n",
       " (-6.157028137675045, array([0.998, 0.002]), 0),\n",
       " (6.168295489550143, array([0.002, 0.998]), 1)]"
      ]
     },
     "execution_count": 6,
     "metadata": {},
     "output_type": "execute_result"
    }
   ],
   "source": [
    "np.set_printoptions(formatter={'float': lambda x: \"{0:0.3f}\".format(x)})\n",
    "decision_scores = logistic_regression_binary.decision_function(X_binary_test)\n",
    "prob = logistic_regression_binary.predict_proba(X_binary_test)\n",
    "pred = logistic_regression_binary.predict(X_binary_test)\n",
    "list(zip(decision_scores, prob, pred))"
   ]
  },
  {
   "cell_type": "code",
   "execution_count": 20,
   "metadata": {},
   "outputs": [
    {
     "data": {
      "image/png": "[encoded data removed]",
      "text/plain": [
       "<Figure size 432x288 with 1 Axes>"
      ]
     },
     "metadata": {
      "needs_background": "light"
     },
     "output_type": "display_data"
    }
   ],
   "source": [
    "# Plot Precision Recall Curve\n",
    "precisions, recalls, thresholds = precision_recall_curve(y_binary_test, decision_scores)\n",
    "plt.plot(thresholds, precisions[:-1], \"b--\", label = \"Precision\")\n",
    "plt.plot(thresholds, recalls[:-1], \"g-\", label = \"Recall\")\n",
    "plt.xlabel(\"Threshold\")\n",
    "plt.legend(loc=\"center left\")\n",
    "plt.show()"
   ]
  },
  {
   "cell_type": "code",
   "execution_count": 10,
   "metadata": {},
   "outputs": [
    {
     "name": "stdout",
     "output_type": "stream",
     "text": [
      "1.0\n",
      "0.009345794392523364\n"
     ]
    }
   ],
   "source": [
    "pred = (decision_scores > 14) # Change this threshold for different values for precision and recall\n",
    "print(precision_score(y_binary_test, pred))\n",
    "print(recall_score(y_binary_test, pred))"
   ]
  },
  {
   "cell_type": "markdown",
   "metadata": {},
   "source": [
    "#### ROC Curve\n",
    "\n",
    "It is another common tool used with binary classifiers. It is very similar to the precision/recall curve, but instead of plotting precision versus recall, the ROC curve plots the true positive rate(recall) against the false positive rate.\n",
    "\n",
    "ROC curve plots sensitivity versus specificity.\n",
    "\n",
    "**Sensitivity** (also called the true positive rate, the recall, or probability of detection[1] in some fields) measures the proportion of actual positives that are correctly identified as such (e.g., the percentage of sick people who are correctly identified as having the condition).\n",
    "\n",
    "**Specificity** (also called the true negative rate) measures the proportion of actual negatives that are correctly identified as such (e.g., the percentage of healthy people who are correctly identified as not having the condition)."
   ]
  },
  {
   "cell_type": "code",
   "execution_count": 21,
   "metadata": {},
   "outputs": [
    {
     "data": {
      "image/png": "[encoded data removed]",
      "text/plain": [
       "<Figure size 432x288 with 1 Axes>"
      ]
     },
     "metadata": {
      "needs_background": "light"
     },
     "output_type": "display_data"
    }
   ],
   "source": [
    "false_positive_rate, true_positive_rate, thresholds = roc_curve(y_binary_test, decision_scores)\n",
    "plt.plot(false_positive_rate, true_positive_rate, linewidth=5)\n",
    "plt.plot([0, 1], [0, 1], \"k--\")\n",
    "plt.axis([0, 1, 0, 1])\n",
    "plt.xlabel(\"False Positive Rate\")\n",
    "plt.ylabel(\"True Positive Rate\")\n",
    "plt.show()"
   ]
  },
  {
   "cell_type": "code",
   "execution_count": null,
   "metadata": {},
   "outputs": [],
   "source": [
    "logistic_regression_multi = LogisticRegression(penalty='l2', dual=False, tol=0.0001, C=1.0, \n",
    "                                        fit_intercept=True, intercept_scaling=1, class_weight=None, \n",
    "                                        random_state=None, solver='lbfgs', max_iter=10000, \n",
    "                                        multi_class='ovr', verbose=0, \n",
    "                                        warm_start=False, \n",
    "                                        n_jobs=None, l1_ratio=None)\n",
    "\n",
    "logistic_regression_multi.fit(X_digits_train, y_digits_train)\n",
    "\n",
    "predictions = logistic_regression_multi.predict(X_digits_test)\n",
    "\n",
    "# Performance Measures for Multi-class Classifier\n",
    "labels=[0, 1, 2, 3, 4, 5, 6, 7, 8, 9]\n",
    "accuracyScore = accuracy_score(y_digits_test, predictions, normalize=True)\n",
    "confusionMatrix = confusion_matrix(y_digits_test, predictions, labels = labels, sample_weight=None, normalize=None)\n",
    "precisionScore = precision_score(y_digits_test, predictions, labels = labels, average='micro')\n",
    "recallScore = recall_score(y_digits_test, predictions, labels=labels, average='micro')\n",
    "\n",
    "print(\"Accuracy : %.2f \" % accuracyScore)\n",
    "print(\"Precision Score : %.2f \" % precisionScore)\n",
    "print(\"Recall Score : %.2f \" % recallScore)\n",
    "print(\"Confusion Matrix: \\n \", confusionMatrix)"
   ]
  },
  {
   "cell_type": "code",
   "execution_count": null,
   "metadata": {},
   "outputs": [],
   "source": [
    "np.set_printoptions(formatter={'float': lambda x: \"{0:0.3f}\".format(x)})\n",
    "decision_scores = logistic_regression_multi.decision_function(X_digits_test)\n",
    "prob = logistic_regression_multi.predict_proba(X_digits_test)\n",
    "pred = logistic_regression_multi.predict(X_digits_test)\n",
    "list(zip(decision_scores, prob, pred))[1]"
   ]
  },
  {
   "cell_type": "markdown",
   "metadata": {},
   "source": [
    "ROC curves are typically used in binary classification to study the output of a classifier. In order to extend ROC curve and ROC area to multi-class or multi-label classification, it is necessary to binarize the output. One ROC curve can be drawn per label, but one can also draw a ROC curve by considering each element of the label indicator matrix as a binary prediction (micro-averaging)."
   ]
  },
  {
   "cell_type": "code",
   "execution_count": null,
   "metadata": {},
   "outputs": [],
   "source": [
    "# Plot Precision Recall Curve\n",
    "# Multi-class format is not supported\n",
    "# We have to perform one-vs-rest \n",
    "\n",
    "# 1 vs [0, 2, 3, 4, 5, 6, 7, 8, 9]\n",
    "y_digits_binary_train = label_binarize(y=y_digits_train, classes=[1])\n",
    "y_digits_binary_test = label_binarize(y=y_digits_test, classes=[1])\n",
    "\n",
    "logistic_regression_binary.fit(X_digits_train, y_digits_binary_train.ravel())\n",
    "predictions = logistic_regression_binary.predict(X_digits_test)\n",
    "\n",
    "labels=[0, 1]\n",
    "accuracyScore = accuracy_score(y_digits_binary_test, predictions, normalize=True)\n",
    "confusionMatrix = confusion_matrix(y_digits_binary_test, predictions, labels = labels, sample_weight=None, normalize=None)\n",
    "precisionScore = precision_score(y_digits_binary_test, predictions, labels = labels, average='binary')\n",
    "recallScore = recall_score(y_digits_binary_test, predictions, labels=labels, average='binary')\n",
    "\n",
    "print(\"Accuracy : %.2f \" % accuracyScore)\n",
    "print(\"Precision Score : %.2f \" % precisionScore)\n",
    "print(\"Recall Score : %.2f \" % recallScore)\n",
    "print(\"Confusion Matrix: \\n \", confusionMatrix)"
   ]
  },
  {
   "cell_type": "code",
   "execution_count": null,
   "metadata": {},
   "outputs": [],
   "source": [
    "# Plot Precision Recall Curve\n",
    "np.set_printoptions(formatter={'float': lambda x: \"{0:0.3f}\".format(x)})\n",
    "decision_scores = logistic_regression_binary.decision_function(X_digits_test)\n",
    "\n",
    "prob = logistic_regression_binary.predict_proba(X_digits_test)\n",
    "pred = logistic_regression_binary.predict(X_digits_test)\n",
    "list(zip(decision_scores, prob, pred))\n",
    "\n",
    "precisions, recalls, thresholds = precision_recall_curve(y_digits_binary_test, decision_scores)\n",
    "plt.plot(thresholds, precisions[:-1], \"b--\", label = \"Precision\")\n",
    "plt.plot(thresholds, recalls[:-1], \"g-\", label = \"Recall\")\n",
    "plt.xlabel(\"Threshold\")\n",
    "plt.legend(loc=\"center left\")\n",
    "plt.show()"
   ]
  },
  {
   "cell_type": "code",
   "execution_count": 25,
   "metadata": {},
   "outputs": [
    {
     "data": {
      "image/png": "[encoded data removed]",
      "text/plain": [
       "<Figure size 432x288 with 1 Axes>"
      ]
     },
     "metadata": {
      "needs_background": "light"
     },
     "output_type": "display_data"
    }
   ],
   "source": [
    "# Plot ROC Curve\n",
    "false_positive_rate, true_positive_rate, thresholds = roc_curve(y_digits_binary_test, decision_scores)\n",
    "plt.plot(false_positive_rate, true_positive_rate, linewidth=5)\n",
    "plt.plot([0, 1], [0, 1], \"k--\")\n",
    "plt.axis([0, 1, 0, 1])\n",
    "plt.xlabel(\"False Positive Rate\")\n",
    "plt.ylabel(\"True Positive Rate\")\n",
    "plt.show()"
   ]
  },
  {
   "cell_type": "markdown",
   "metadata": {},
   "source": [
    "#### Perceptron Algorithm"
   ]
  },
  {
   "cell_type": "code",
   "execution_count": 28,
   "metadata": {},
   "outputs": [
    {
     "name": "stdout",
     "output_type": "stream",
     "text": [
      "Accuracy : 0.88 \n",
      "Precision Score : 0.89 \n",
      "Recall Score : 0.93 \n",
      "Confusion Matrix: \n",
      "  [[52 12]\n",
      " [ 8 99]]\n"
     ]
    }
   ],
   "source": [
    "perceptron = Perceptron(penalty=None, fit_intercept=True, \n",
    "                        max_iter=1000, tol=0.001, shuffle=True, verbose=0,\n",
    "                        eta0=1.0, n_jobs=None, random_state=0, \n",
    "                        early_stopping=False, validation_fraction=0.1,\n",
    "                        n_iter_no_change=5, class_weight=None, \n",
    "                        warm_start=False)\n",
    "\n",
    "\n",
    "perceptron.fit(X_binary_train, y_binary_train)\n",
    "\n",
    "predictions = perceptron.predict(X_binary_test)\n",
    "\n",
    "# Performance Measures for Binary Classifier\n",
    "labels=[0, 1]\n",
    "accuracyScore = accuracy_score(y_binary_test, predictions, normalize=True)\n",
    "confusionMatrix = confusion_matrix(y_binary_test, predictions, labels = labels, sample_weight=None, normalize=None)\n",
    "precisionScore = precision_score(y_binary_test, predictions, labels = labels, average='binary')\n",
    "recallScore = recall_score(y_binary_test, predictions, labels=labels, average='binary')\n",
    "\n",
    "print(\"Accuracy : %.2f \" % accuracyScore)\n",
    "print(\"Precision Score : %.2f \" % precisionScore)\n",
    "print(\"Recall Score : %.2f \" % recallScore)\n",
    "print(\"Confusion Matrix: \\n \", confusionMatrix)"
   ]
  },
  {
   "cell_type": "code",
   "execution_count": 33,
   "metadata": {},
   "outputs": [
    {
     "data": {
      "text/plain": [
       "[(656292.8592648205, 1),\n",
       " (512182.3811877266, 1),\n",
       " (846462.6014137091, 1),\n",
       " (19904.55602793307, 1),\n",
       " (129321.62829367045, 1),\n",
       " (128154.74234200545, 1),\n",
       " (694560.943410462, 1),\n",
       " (-1640322.6283461568, 0),\n",
       " (725906.4066191646, 1),\n",
       " (-1889305.679423915, 0),\n",
       " (654940.9748523459, 1),\n",
       " (624232.7278079253, 1),\n",
       " (-1546255.1049977783, 0),\n",
       " (-332620.5004617781, 0),\n",
       " (747164.6171439836, 1),\n",
       " (-740746.8291208148, 0),\n",
       " (-2550025.098539367, 0),\n",
       " (653175.621508745, 1),\n",
       " (806059.1883749784, 1),\n",
       " (488154.101571052, 1),\n",
       " (758638.7736071812, 1),\n",
       " (363279.0874567982, 1),\n",
       " (748656.0119668669, 1),\n",
       " (-2549823.3821191546, 0),\n",
       " (-4352827.792105381, 0),\n",
       " (-183058.4662499271, 0),\n",
       " (822057.5229083349, 1),\n",
       " (-90934.54975231792, 0),\n",
       " (-280940.8253591139, 0),\n",
       " (-2213547.0255652587, 0),\n",
       " (237616.92295866145, 1),\n",
       " (-6267263.880233029, 0),\n",
       " (860427.6202132916, 1),\n",
       " (660147.4030959373, 1),\n",
       " (-4208251.4192145495, 0),\n",
       " (711067.8932411282, 1),\n",
       " (187485.3029540281, 1),\n",
       " (1008705.4690634601, 1),\n",
       " (276888.5780041415, 1),\n",
       " (-48654.07162760113, 0),\n",
       " (-18706.36819256828, 0),\n",
       " (-1972728.8725186416, 0),\n",
       " (585835.3669519033, 1),\n",
       " (945453.8198663916, 1),\n",
       " (830234.4215372874, 1),\n",
       " (170526.69782870685, 1),\n",
       " (831046.4132988736, 1),\n",
       " (666484.2910209235, 1),\n",
       " (906568.4631157157, 1),\n",
       " (20152.920447661472, 1),\n",
       " (971497.0866424663, 1),\n",
       " (180786.0328710678, 1),\n",
       " (-1350969.6903797325, 0),\n",
       " (-2669960.8156592073, 0),\n",
       " (681194.266743098, 1),\n",
       " (349498.7715223696, 1),\n",
       " (-2322977.056601688, 0),\n",
       " (213626.49931228085, 1),\n",
       " (215651.84379033875, 1),\n",
       " (-335097.3976355487, 0),\n",
       " (-1109274.2889003921, 0),\n",
       " (-3913403.958040573, 0),\n",
       " (-3035211.4218502613, 0),\n",
       " (797995.0639345072, 1),\n",
       " (459402.7633105985, 1),\n",
       " (501202.69022254355, 1),\n",
       " (780135.1613102865, 1),\n",
       " (-1207502.9583054218, 0),\n",
       " (334282.7565789439, 1),\n",
       " (780357.4075120876, 1),\n",
       " (-2747609.6856269403, 0),\n",
       " (-1077551.1816685062, 0),\n",
       " (-1937392.8262645884, 0),\n",
       " (-3552594.3007087084, 0),\n",
       " (372250.0448821814, 1),\n",
       " (576931.3985199829, 1),\n",
       " (545670.194803901, 1),\n",
       " (529483.7073655457, 1),\n",
       " (-1467351.2511541464, 0),\n",
       " (797091.405917323, 1),\n",
       " (911421.7526398659, 1),\n",
       " (496759.1466282442, 1),\n",
       " (-2341776.528583691, 0),\n",
       " (810138.7707377038, 1),\n",
       " (-8375255.858030921, 0),\n",
       " (599493.2456722116, 1),\n",
       " (766626.2158013242, 1),\n",
       " (-8840112.931644095, 0),\n",
       " (-3626474.357050799, 0),\n",
       " (-2878065.403418067, 0),\n",
       " (-4514023.7573595, 0),\n",
       " (256555.58522443898, 1),\n",
       " (759862.0563643972, 1),\n",
       " (899076.9681023897, 1),\n",
       " (769647.1869205709, 1),\n",
       " (422612.443598183, 1),\n",
       " (-1106567.663517082, 0),\n",
       " (635015.5355962366, 1),\n",
       " (993932.7348378493, 1),\n",
       " (965247.6817636449, 1),\n",
       " (561139.3912027851, 1),\n",
       " (906773.5966157697, 1),\n",
       " (480239.7649538993, 1),\n",
       " (-1666112.0923553372, 0),\n",
       " (116938.80406052868, 1),\n",
       " (482873.8963683431, 1),\n",
       " (345134.2549718523, 1),\n",
       " (545714.8811996577, 1),\n",
       " (-68201.51220196749, 0),\n",
       " (912092.2539559434, 1),\n",
       " (611259.7535332993, 1),\n",
       " (485741.07952097576, 1),\n",
       " (-928679.3593241106, 0),\n",
       " (898591.4272187204, 1),\n",
       " (881588.7382774602, 1),\n",
       " (716930.3502545735, 1),\n",
       " (602140.6393952058, 1),\n",
       " (441950.5635560523, 1),\n",
       " (805422.3350860998, 1),\n",
       " (-2781525.6533810166, 0),\n",
       " (270461.42498310463, 1),\n",
       " (648180.2689876228, 1),\n",
       " (-2138592.023756868, 0),\n",
       " (680622.0548857927, 1),\n",
       " (306282.13795393385, 1),\n",
       " (919958.8360513882, 1),\n",
       " (147731.58317066613, 1),\n",
       " (-539633.9688015096, 0),\n",
       " (738473.5953464824, 1),\n",
       " (628437.0725558087, 1),\n",
       " (308630.44836236525, 1),\n",
       " (476957.84777707886, 1),\n",
       " (-1048382.6659342453, 0),\n",
       " (-59334.59844851448, 0),\n",
       " (-1461227.2941915102, 0),\n",
       " (427943.12740313075, 1),\n",
       " (-187344.52981737678, 0),\n",
       " (774923.7279088837, 1),\n",
       " (696499.1162851588, 1),\n",
       " (-294054.100477, 0),\n",
       " (857515.9831589664, 1),\n",
       " (703634.63831571, 1),\n",
       " (-2775635.822489818, 0),\n",
       " (-2740306.452269681, 0),\n",
       " (-14736639.51029803, 0),\n",
       " (-2042654.4159095278, 0),\n",
       " (-4044347.531802423, 0),\n",
       " (928651.420218227, 1),\n",
       " (331491.620193299, 1),\n",
       " (953539.4576165179, 1),\n",
       " (224877.19440544452, 1),\n",
       " (632222.1587515624, 1),\n",
       " (-7012567.557131896, 0),\n",
       " (601137.0369710855, 1),\n",
       " (-947672.9028915707, 0),\n",
       " (211443.41143072094, 1),\n",
       " (987047.7464719053, 1),\n",
       " (-1242512.833638517, 0),\n",
       " (645044.9263786959, 1),\n",
       " (593569.3915175209, 1),\n",
       " (297380.4511137166, 1),\n",
       " (-1049585.0596759322, 0),\n",
       " (404900.99368162255, 1),\n",
       " (159958.33407886125, 1),\n",
       " (-2757306.185630037, 0),\n",
       " (689086.1613207033, 1),\n",
       " (1081834.5521367465, 1),\n",
       " (617451.2605174207, 1),\n",
       " (-26821.999008736962, 0),\n",
       " (-1926785.4098027695, 0),\n",
       " (693636.7340745577, 1)]"
      ]
     },
     "execution_count": 33,
     "metadata": {},
     "output_type": "execute_result"
    }
   ],
   "source": [
    "np.set_printoptions(formatter={'float': lambda x: \"{0:0.3f}\".format(x)})\n",
    "decision_scores = perceptron.decision_function(X_binary_test)\n",
    "pred = perceptron.predict(X_binary_test)\n",
    "list(zip(decision_scores,  pred))"
   ]
  },
  {
   "cell_type": "code",
   "execution_count": 34,
   "metadata": {},
   "outputs": [
    {
     "data": {
      "image/png": "[encoded data removed]",
      "text/plain": [
       "<Figure size 432x288 with 1 Axes>"
      ]
     },
     "metadata": {
      "needs_background": "light"
     },
     "output_type": "display_data"
    }
   ],
   "source": [
    "# Plot Precision Recall Curve\n",
    "precisions, recalls, thresholds = precision_recall_curve(y_binary_test, decision_scores)\n",
    "plt.plot(thresholds, precisions[:-1], \"b--\", label = \"Precision\")\n",
    "plt.plot(thresholds, recalls[:-1], \"g-\", label = \"Recall\")\n",
    "plt.xlabel(\"Threshold\")\n",
    "plt.legend(loc=\"center left\")\n",
    "plt.show()"
   ]
  },
  {
   "cell_type": "code",
   "execution_count": 36,
   "metadata": {},
   "outputs": [
    {
     "name": "stdout",
     "output_type": "stream",
     "text": [
      "0.8823529411764706\n",
      "0.9813084112149533\n"
     ]
    }
   ],
   "source": [
    "pred = (decision_scores > -200000) # Change this threshold for different values for precision and recall\n",
    "print(precision_score(y_binary_test, pred))\n",
    "print(recall_score(y_binary_test, pred))"
   ]
  },
  {
   "cell_type": "markdown",
   "metadata": {},
   "source": [
    "#### LDA & QDA"
   ]
  },
  {
   "cell_type": "code",
   "execution_count": 42,
   "metadata": {},
   "outputs": [
    {
     "name": "stdout",
     "output_type": "stream",
     "text": [
      "Accuracy : 0.95 \n",
      "Precision Score : 0.95 \n",
      "Recall Score : 0.95 \n",
      "Confusion Matrix: \n",
      "  [[53  0  0  0  0  0  1  0  0  0]\n",
      " [ 0 49  0  0  1  0  0  0  3  2]\n",
      " [ 0  0 51  2  0  0  0  0  0  0]\n",
      " [ 0  0  0 55  0  0  0  0  0  0]\n",
      " [ 0  0  0  0 53  0  0  0  1  0]\n",
      " [ 0  0  0  0  0 53  0  0  0  2]\n",
      " [ 0  1  0  0  0  0 53  0  0  0]\n",
      " [ 0  0  0  0  0  0  0 54  0  0]\n",
      " [ 0  5  0  0  0  0  0  0 46  1]\n",
      " [ 0  1  0  0  0  1  0  1  4 47]]\n"
     ]
    }
   ],
   "source": [
    "linear_discriminant_analysis = LinearDiscriminantAnalysis(solver='svd', shrinkage=None, priors=None, \n",
    "                                                        n_components=None, store_covariance=False, tol=0.0001)\n",
    "\n",
    "\n",
    "linear_discriminant_analysis.fit(X_digits_train, y_digits_train)\n",
    "\n",
    "predictions = linear_discriminant_analysis.predict(X_digits_test)\n",
    "\n",
    "# Performance Measures for Multi-class Classifier\n",
    "labels=[0, 1, 2, 3, 4, 5, 6, 7, 8, 9]\n",
    "accuracyScore = accuracy_score(y_digits_test, predictions, normalize=True)\n",
    "confusionMatrix = confusion_matrix(y_digits_test, predictions, labels = labels, sample_weight=None, normalize=None)\n",
    "precisionScore = precision_score(y_digits_test, predictions, labels = labels, average='micro')\n",
    "recallScore = recall_score(y_digits_test, predictions, labels=labels, average='micro')\n",
    "\n",
    "print(\"Accuracy : %.2f \" % accuracyScore)\n",
    "print(\"Precision Score : %.2f \" % precisionScore)\n",
    "print(\"Recall Score : %.2f \" % recallScore)\n",
    "print(\"Confusion Matrix: \\n \", confusionMatrix)"
   ]
  },
  {
   "cell_type": "code",
   "execution_count": 44,
   "metadata": {},
   "outputs": [
    {
     "name": "stdout",
     "output_type": "stream",
     "text": [
      "Accuracy : 0.87 \n",
      "Precision Score : 0.87 \n",
      "Recall Score : 0.87 \n",
      "Confusion Matrix: \n",
      "  [[50  2  0  0  1  0  0  0  1  0]\n",
      " [ 0 41  2  1  2  1  2  0  5  1]\n",
      " [ 0  5 41  3  1  0  0  0  3  0]\n",
      " [ 0  0  1 46  0  0  0  1  6  1]\n",
      " [ 0  1  0  0 42  0  1 10  0  0]\n",
      " [ 0  0  0  0  0 54  0  1  0  0]\n",
      " [ 0  1  0  0  0  0 53  0  0  0]\n",
      " [ 0  0  0  0  0  0  0 54  0  0]\n",
      " [ 0  3  0  3  0  1  0  1 44  0]\n",
      " [ 0  0  1  1  0  2  0  5  2 43]]\n"
     ]
    },
    {
     "name": "stderr",
     "output_type": "stream",
     "text": [
      "/Users/ukannika/Library/Python/3.7/lib/python/site-packages/sklearn/discriminant_analysis.py:691: UserWarning:\n",
      "\n",
      "Variables are collinear\n",
      "\n"
     ]
    }
   ],
   "source": [
    "quadratic_discriminant_analysis = QuadraticDiscriminantAnalysis(priors=None, reg_param=0.0, \n",
    "                                                                store_covariance=False, tol=0.0001)\n",
    "\n",
    "quadratic_discriminant_analysis.fit(X_digits_train, y_digits_train)\n",
    "\n",
    "predictions = quadratic_discriminant_analysis.predict(X_digits_test)\n",
    "\n",
    "# Performance Measures for Multi-class Classifier\n",
    "labels=[0, 1, 2, 3, 4, 5, 6, 7, 8, 9]\n",
    "accuracyScore = accuracy_score(y_digits_test, predictions, normalize=True)\n",
    "confusionMatrix = confusion_matrix(y_digits_test, predictions, labels = labels, sample_weight=None, normalize=None)\n",
    "precisionScore = precision_score(y_digits_test, predictions, labels = labels, average='micro')\n",
    "recallScore = recall_score(y_digits_test, predictions, labels=labels, average='micro')\n",
    "\n",
    "print(\"Accuracy : %.2f \" % accuracyScore)\n",
    "print(\"Precision Score : %.2f \" % precisionScore)\n",
    "print(\"Recall Score : %.2f \" % recallScore)\n",
    "print(\"Confusion Matrix: \\n \", confusionMatrix)"
   ]
  },
  {
   "cell_type": "markdown",
   "metadata": {},
   "source": [
    "#### Support Vector Machines"
   ]
  },
  {
   "cell_type": "code",
   "execution_count": 46,
   "metadata": {},
   "outputs": [
    {
     "name": "stdout",
     "output_type": "stream",
     "text": [
      "Accuracy : 0.99 \n",
      "Precision Score : 0.99 \n",
      "Recall Score : 0.99 \n",
      "Confusion Matrix: \n",
      "  [[53  0  0  0  1  0  0  0  0  0]\n",
      " [ 0 55  0  0  0  0  0  0  0  0]\n",
      " [ 0  0 53  0  0  0  0  0  0  0]\n",
      " [ 0  0  0 55  0  0  0  0  0  0]\n",
      " [ 0  0  0  0 53  0  0  0  1  0]\n",
      " [ 0  0  0  0  0 54  0  0  0  1]\n",
      " [ 0  0  0  0  0  0 54  0  0  0]\n",
      " [ 0  0  0  0  0  0  0 54  0  0]\n",
      " [ 0  2  0  0  0  0  0  0 50  0]\n",
      " [ 0  0  0  0  0  0  0  1  0 53]]\n"
     ]
    }
   ],
   "source": [
    "# RBF Kernel\n",
    "svm = SVC(C=1.0, kernel='rbf', degree=3, gamma='scale', coef0=0.0, \n",
    "          shrinking=True, probability=False, tol=0.001, cache_size=200, \n",
    "          class_weight=None, verbose=False, max_iter=-1, \n",
    "          decision_function_shape='ovr', break_ties=False, \n",
    "          random_state=None)\n",
    "\n",
    "svm.fit(X_digits_train, y_digits_train)\n",
    "\n",
    "predictions = svm.predict(X_digits_test)\n",
    "\n",
    "# Performance Measures for Multi-class Classifier\n",
    "labels=[0, 1, 2, 3, 4, 5, 6, 7, 8, 9]\n",
    "accuracyScore = accuracy_score(y_digits_test, predictions, normalize=True)\n",
    "confusionMatrix = confusion_matrix(y_digits_test, predictions, labels = labels, sample_weight=None, normalize=None)\n",
    "precisionScore = precision_score(y_digits_test, predictions, labels = labels, average='micro')\n",
    "recallScore = recall_score(y_digits_test, predictions, labels=labels, average='micro')\n",
    "\n",
    "print(\"Accuracy : %.2f \" % accuracyScore)\n",
    "print(\"Precision Score : %.2f \" % precisionScore)\n",
    "print(\"Recall Score : %.2f \" % recallScore)\n",
    "print(\"Confusion Matrix: \\n \", confusionMatrix)"
   ]
  },
  {
   "cell_type": "markdown",
   "metadata": {},
   "source": [
    "#### KNN Classifier"
   ]
  },
  {
   "cell_type": "code",
   "execution_count": 52,
   "metadata": {},
   "outputs": [
    {
     "name": "stdout",
     "output_type": "stream",
     "text": [
      "Accuracy : 0.98 \n",
      "Precision Score : 0.98 \n",
      "Recall Score : 0.98 \n",
      "Confusion Matrix: \n",
      "  [[54  0  0  0  0  0  0  0  0  0]\n",
      " [ 0 55  0  0  0  0  0  0  0  0]\n",
      " [ 0  0 53  0  0  0  0  0  0  0]\n",
      " [ 0  0  0 55  0  0  0  0  0  0]\n",
      " [ 0  0  0  0 53  0  0  1  0  0]\n",
      " [ 0  0  0  0  0 54  0  0  0  1]\n",
      " [ 0  0  0  0  0  0 53  0  1  0]\n",
      " [ 0  0  0  0  0  0  0 54  0  0]\n",
      " [ 0  4  0  1  0  0  0  1 46  0]\n",
      " [ 0  0  0  0  0  0  0  1  1 52]]\n"
     ]
    }
   ],
   "source": [
    "knn = KNeighborsClassifier(n_neighbors=10, weights='uniform', algorithm='ball_tree', \n",
    "                           leaf_size=30, \n",
    "                           p=2, \n",
    "                           metric='minkowski', \n",
    "                           metric_params=None, n_jobs=1)\n",
    "\n",
    "knn.fit(X_digits_train, y_digits_train)\n",
    "\n",
    "predictions = knn.predict(X_digits_test)\n",
    "\n",
    "# Performance Measures for Multi-class Classifier\n",
    "labels=[0, 1, 2, 3, 4, 5, 6, 7, 8, 9]\n",
    "accuracyScore = accuracy_score(y_digits_test, predictions, normalize=True)\n",
    "confusionMatrix = confusion_matrix(y_digits_test, predictions, labels = labels, sample_weight=None, normalize=None)\n",
    "precisionScore = precision_score(y_digits_test, predictions, labels = labels, average='micro')\n",
    "recallScore = recall_score(y_digits_test, predictions, labels=labels, average='micro')\n",
    "\n",
    "print(\"Accuracy : %.2f \" % accuracyScore)\n",
    "print(\"Precision Score : %.2f \" % precisionScore)\n",
    "print(\"Recall Score : %.2f \" % recallScore)\n",
    "print(\"Confusion Matrix: \\n \", confusionMatrix)"
   ]
  },
  {
   "cell_type": "markdown",
   "metadata": {},
   "source": [
    "#### Decision Trees"
   ]
  }
 ],
 "metadata": {
  "kernelspec": {
   "display_name": "Python 3",
   "language": "python",
   "name": "python3"
  },
  "language_info": {
   "codemirror_mode": {
    "name": "ipython",
    "version": 3
   },
   "file_extension": ".py",
   "mimetype": "text/x-python",
   "name": "python",
   "nbconvert_exporter": "python",
   "pygments_lexer": "ipython3",
   "version": "3.7.6"
  }
 },
 "nbformat": 4,
 "nbformat_minor": 2
}
